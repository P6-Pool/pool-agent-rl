{
 "cells": [
  {
   "cell_type": "code",
   "execution_count": 13,
   "metadata": {},
   "outputs": [],
   "source": [
    "import numpy as np"
   ]
  },
  {
   "cell_type": "code",
   "execution_count": 14,
   "metadata": {},
   "outputs": [],
   "source": [
    "def vec_length(vec: np.ndarray) -> float:\n",
    "    \"\"\"\n",
    "    Gets the length of a vector.\n",
    "    \"\"\"\n",
    "    return float(np.linalg.norm(vec))"
   ]
  },
  {
   "cell_type": "code",
   "execution_count": 65,
   "metadata": {},
   "outputs": [],
   "source": [
    "def spherical_coordinates(vector: np.ndarray) -> tuple[float, float, float]:\n",
    "    \"\"\"\n",
    "    Converts a vector to spherical coordinates.\n",
    "\n",
    "    Returns:\n",
    "        r: float - The magnitude of the vector.\n",
    "        theta: float - The angle from the z-axis.\n",
    "        phi: float - The angle in the xy-plane.\n",
    "    \"\"\"\n",
    "    assert len(vector) == 3, \"Vector must have excatly 3 components.\"\n",
    "    Vx, Vy, Vz = vector\n",
    "    r = vec_length(vector)\n",
    "    theta = np.rad2deg(np.arccos(Vz / r))\n",
    "    phi = np.arctan2(Vy, Vx)  # Using arctan2 to get correct quadrant\n",
    "\n",
    "    # phi = np.rad2deg((phi + 2 * np.pi) % (2 * np.pi))\n",
    "\n",
    "    return r, theta, np.rad2deg(phi)"
   ]
  },
  {
   "cell_type": "code",
   "execution_count": 16,
   "metadata": {},
   "outputs": [],
   "source": [
    "def cart2sph(x, y, z):\n",
    "    hxy = np.hypot(x, y)\n",
    "    r = np.hypot(hxy, z)\n",
    "    el = np.arctan2(z, hxy)\n",
    "    az = np.arctan2(y, x)\n",
    "    return az, el, r"
   ]
  },
  {
   "cell_type": "code",
   "execution_count": 61,
   "metadata": {},
   "outputs": [],
   "source": [
    "def cart2params(x, y, z):\n",
    "    az, el, r = cart2sph(x, y, z)\n",
    "    az = np.rad2deg(az)\n",
    "    el = np.rad2deg(el)\n",
    "    return r, el, az"
   ]
  },
  {
   "cell_type": "code",
   "execution_count": 66,
   "metadata": {},
   "outputs": [],
   "source": [
    "def cartesian_to_spherical(x, y, z):\n",
    "    r = np.sqrt(x**2 + y**2 + z**2)\n",
    "    theta = np.rad2deg(np.arccos(z / r))\n",
    "    phi = np.rad2deg(np.arctan2(y, x))\n",
    "    return r, theta, phi"
   ]
  },
  {
   "cell_type": "code",
   "execution_count": 74,
   "metadata": {},
   "outputs": [
    {
     "name": "stdout",
     "output_type": "stream",
     "text": [
      "(1.044030650891055, 90.0, 16.69924423399362)\n",
      "(1.044030650891055, 90.0, 16.69924423399362)\n",
      "(1.044030650891055, 0.0, 16.69924423399362)\n"
     ]
    }
   ],
   "source": [
    "vec = np.array([1, 0.30, 0])\n",
    "print(spherical_coordinates(vec))\n",
    "print(cartesian_to_spherical(*vec))\n",
    "print(cart2params(*vec))\n",
    "\n"
   ]
  },
  {
   "cell_type": "code",
   "execution_count": 18,
   "metadata": {},
   "outputs": [
    {
     "data": {
      "text/plain": [
       "(1.4142135623730951, 45.00000000000001, 0.0)"
      ]
     },
     "execution_count": 18,
     "metadata": {},
     "output_type": "execute_result"
    }
   ],
   "source": [
    "spherical_coordinates(vec)"
   ]
  },
  {
   "cell_type": "code",
   "execution_count": 19,
   "metadata": {},
   "outputs": [
    {
     "data": {
      "text/plain": [
       "(0.0, 0.7853981633974483, 1.4142135623730951)"
      ]
     },
     "execution_count": 19,
     "metadata": {},
     "output_type": "execute_result"
    }
   ],
   "source": [
    "cart2sph(*vec)"
   ]
  },
  {
   "cell_type": "code",
   "execution_count": 155,
   "metadata": {},
   "outputs": [],
   "source": [
    "def cart2sph(x: float, y: float, z: float) -> tuple[float, float, float]:\n",
    "    \"\"\"\n",
    "    Convert Cartesian coordinates to spherical coordinates.\n",
    "\n",
    "    Args:\n",
    "        x (float): x-coordinate.\n",
    "        y (float): y-coordinate.\n",
    "        z (float): z-coordinate.\n",
    "\n",
    "    Returns:\n",
    "        tuple[float, float, float]: A tuple containing azimuth angle (in degrees), elevation angle (in degrees), and radius.\n",
    "    \"\"\"\n",
    "    hxy: float = np.hypot(x, y)\n",
    "    r: float = np.hypot(hxy, z)\n",
    "    el: float = np.arctan2(z, hxy)\n",
    "    az: float = np.arctan2(y, x)\n",
    "    return az, el, r\n",
    "\n",
    "\n",
    "def sph2deg(az: float, el: float, r: float) -> tuple[float, float, float]:\n",
    "    \"\"\"\n",
    "    Convert spherical coordinates to degrees.\n",
    "\n",
    "    Args:\n",
    "        az (float): Azimuth angle in radians.\n",
    "        el (float): Elevation angle in radians.\n",
    "        r (float): Radius.\n",
    "\n",
    "    Returns:\n",
    "        tuple[float, float, float]: A tuple containing elevation angle (in degrees), azimuth angle (in degrees), and radius.\n",
    "    \"\"\"\n",
    "    theta: float = np.rad2deg(el) % 180\n",
    "    phi: float = np.rad2deg(az) % 360\n",
    "    return theta, phi, r"
   ]
  },
  {
   "cell_type": "code",
   "execution_count": 161,
   "metadata": {},
   "outputs": [
    {
     "data": {
      "text/plain": [
       "(35.264389682754654, 45.0, 346.41016151377545)"
      ]
     },
     "execution_count": 161,
     "metadata": {},
     "output_type": "execute_result"
    }
   ],
   "source": [
    "vec = np.array([200, 200, 200])\n",
    "cart2sph(*vec)\n",
    "sph2deg(*cart2sph(*vec))"
   ]
  },
  {
   "cell_type": "code",
   "execution_count": 123,
   "metadata": {},
   "outputs": [
    {
     "data": {
      "text/plain": [
       "180.0"
      ]
     },
     "execution_count": 123,
     "metadata": {},
     "output_type": "execute_result"
    }
   ],
   "source": [
    "np.rad2deg(np.pi)"
   ]
  }
 ],
 "metadata": {
  "kernelspec": {
   "display_name": "venv",
   "language": "python",
   "name": "python3"
  },
  "language_info": {
   "codemirror_mode": {
    "name": "ipython",
    "version": 3
   },
   "file_extension": ".py",
   "mimetype": "text/x-python",
   "name": "python",
   "nbconvert_exporter": "python",
   "pygments_lexer": "ipython3",
   "version": "3.10.12"
  }
 },
 "nbformat": 4,
 "nbformat_minor": 2
}
